{
 "cells": [
  {
   "cell_type": "code",
   "execution_count": 1,
   "id": "6bb92496-0537-49ef-adc1-cf6ba431b2bc",
   "metadata": {},
   "outputs": [],
   "source": [
    "import matplotlib.pyplot as plt\n",
    "import seaborn as sns\n",
    "import pandas as pd"
   ]
  },
  {
   "cell_type": "code",
   "execution_count": null,
   "id": "b3228198-0420-40d5-a5d3-14619f7864a3",
   "metadata": {},
   "outputs": [],
   "source": [
    "    data: DataFrame или массив, содержащий данные для построения графика;\n",
    "    x: название переменной или вектор данных для оси X;\n",
    "    y: название переменной или вектор данных для оси Y;\n",
    "    hue: название переменной или вектор данных, определяющий расцветку столбцов;\n",
    "    order: упорядоченный список уникальных значений для оси X (если нужно задать определённый порядок столбцов);\n",
    "    hue_order: упорядоченный список уникальных значений для переменной hue;\n",
    "    estimator: функция для вычисления значений по категориям. По умолчанию np.mean. Можно использовать такие функции, \n",
    "            как np.sum, np.median и т.д.;\n",
    "    errorbar: функция или параметр для вычисления ошибки. Поддерживает значения sd (стандартное отклонение), \n",
    "            ci (интервал доверия), pi (предсказательный интервал) и пользовательские функции;\n",
    "    color: цвет столбцов;\n",
    "    palette: палитра цветов для переменной hue;\n",
    "    saturation: степень насыщенности цвета столбцов. Значение по умолчанию = 0.75;\n",
    "    width: задает относительную ширину столбцов. Значение по умолчанию = 0.8;\n",
    "    dodge: логическое значение, определяющее, будут ли столбцы разных категорий hue расположены рядом (если True) \n",
    "            или наложены друг на друга (если False)."
   ]
  },
  {
   "cell_type": "code",
   "execution_count": 2,
   "id": "e81ab65e-6266-4cde-b439-46db62bd6f8c",
   "metadata": {},
   "outputs": [
    {
     "data": {
      "text/html": [
       "<div>\n",
       "<style scoped>\n",
       "    .dataframe tbody tr th:only-of-type {\n",
       "        vertical-align: middle;\n",
       "    }\n",
       "\n",
       "    .dataframe tbody tr th {\n",
       "        vertical-align: top;\n",
       "    }\n",
       "\n",
       "    .dataframe thead th {\n",
       "        text-align: right;\n",
       "    }\n",
       "</style>\n",
       "<table border=\"1\" class=\"dataframe\">\n",
       "  <thead>\n",
       "    <tr style=\"text-align: right;\">\n",
       "      <th></th>\n",
       "      <th>species</th>\n",
       "      <th>island</th>\n",
       "      <th>bill_length_mm</th>\n",
       "      <th>bill_depth_mm</th>\n",
       "      <th>flipper_length_mm</th>\n",
       "      <th>body_mass_g</th>\n",
       "      <th>sex</th>\n",
       "    </tr>\n",
       "  </thead>\n",
       "  <tbody>\n",
       "    <tr>\n",
       "      <th>0</th>\n",
       "      <td>Adelie</td>\n",
       "      <td>Torgersen</td>\n",
       "      <td>39.1</td>\n",
       "      <td>18.7</td>\n",
       "      <td>181.0</td>\n",
       "      <td>3750.0</td>\n",
       "      <td>Male</td>\n",
       "    </tr>\n",
       "    <tr>\n",
       "      <th>1</th>\n",
       "      <td>Adelie</td>\n",
       "      <td>Torgersen</td>\n",
       "      <td>39.5</td>\n",
       "      <td>17.4</td>\n",
       "      <td>186.0</td>\n",
       "      <td>3800.0</td>\n",
       "      <td>Female</td>\n",
       "    </tr>\n",
       "    <tr>\n",
       "      <th>2</th>\n",
       "      <td>Adelie</td>\n",
       "      <td>Torgersen</td>\n",
       "      <td>40.3</td>\n",
       "      <td>18.0</td>\n",
       "      <td>195.0</td>\n",
       "      <td>3250.0</td>\n",
       "      <td>Female</td>\n",
       "    </tr>\n",
       "    <tr>\n",
       "      <th>4</th>\n",
       "      <td>Adelie</td>\n",
       "      <td>Torgersen</td>\n",
       "      <td>36.7</td>\n",
       "      <td>19.3</td>\n",
       "      <td>193.0</td>\n",
       "      <td>3450.0</td>\n",
       "      <td>Female</td>\n",
       "    </tr>\n",
       "    <tr>\n",
       "      <th>5</th>\n",
       "      <td>Adelie</td>\n",
       "      <td>Torgersen</td>\n",
       "      <td>39.3</td>\n",
       "      <td>20.6</td>\n",
       "      <td>190.0</td>\n",
       "      <td>3650.0</td>\n",
       "      <td>Male</td>\n",
       "    </tr>\n",
       "  </tbody>\n",
       "</table>\n",
       "</div>"
      ],
      "text/plain": [
       "  species     island  bill_length_mm  bill_depth_mm  flipper_length_mm  \\\n",
       "0  Adelie  Torgersen            39.1           18.7              181.0   \n",
       "1  Adelie  Torgersen            39.5           17.4              186.0   \n",
       "2  Adelie  Torgersen            40.3           18.0              195.0   \n",
       "4  Adelie  Torgersen            36.7           19.3              193.0   \n",
       "5  Adelie  Torgersen            39.3           20.6              190.0   \n",
       "\n",
       "   body_mass_g     sex  \n",
       "0       3750.0    Male  \n",
       "1       3800.0  Female  \n",
       "2       3250.0  Female  \n",
       "4       3450.0  Female  \n",
       "5       3650.0    Male  "
      ]
     },
     "execution_count": 2,
     "metadata": {},
     "output_type": "execute_result"
    }
   ],
   "source": [
    "penguins = sns.load_dataset('penguins').dropna()\n",
    "\n",
    "penguins.head()"
   ]
  },
  {
   "cell_type": "code",
   "execution_count": 3,
   "id": "ca5b7dbe-b172-488c-9016-aec9776a460c",
   "metadata": {},
   "outputs": [
    {
     "name": "stdout",
     "output_type": "stream",
     "text": [
      "<class 'pandas.core.frame.DataFrame'>\n",
      "Index: 333 entries, 0 to 343\n",
      "Data columns (total 7 columns):\n",
      " #   Column             Non-Null Count  Dtype  \n",
      "---  ------             --------------  -----  \n",
      " 0   species            333 non-null    object \n",
      " 1   island             333 non-null    object \n",
      " 2   bill_length_mm     333 non-null    float64\n",
      " 3   bill_depth_mm      333 non-null    float64\n",
      " 4   flipper_length_mm  333 non-null    float64\n",
      " 5   body_mass_g        333 non-null    float64\n",
      " 6   sex                333 non-null    object \n",
      "dtypes: float64(4), object(3)\n",
      "memory usage: 20.8+ KB\n"
     ]
    }
   ],
   "source": [
    "penguins.info()"
   ]
  },
  {
   "cell_type": "code",
   "execution_count": null,
   "id": "fa518566-e065-4430-a98e-41c8c50a317a",
   "metadata": {},
   "outputs": [],
   "source": [
    "    'species' - вид пингвина (Adelie, Chinstrap, Gentoo);\n",
    "    'island' - остров, где были собраны данные (Biscoe, Dream, Torgersen);\n",
    "    'bill_length_mm' - длина клюва в миллиметрах;\n",
    "    'bill_depth_mm' - глубина клюва в миллиметрах;\n",
    "    'flipper_length_mm' - длина ласт в миллиметрах;\n",
    "    'body_mass_g' - масса тела в граммах;\n",
    "    'sex' - пол пингвина (Male, Female)."
   ]
  },
  {
   "cell_type": "code",
   "execution_count": 4,
   "id": "25cacae3-c588-4965-8279-029b4ffb75a8",
   "metadata": {},
   "outputs": [],
   "source": [
    "sns.set_style('whitegrid')"
   ]
  },
  {
   "cell_type": "code",
   "execution_count": 16,
   "id": "48ed4104-4b4e-4256-9d9e-e8baa3e4a540",
   "metadata": {},
   "outputs": [
    {
     "data": {
      "text/plain": [
       "''"
      ]
     },
     "execution_count": 16,
     "metadata": {},
     "output_type": "execute_result"
    },
    {
     "data": {
      "image/png": "[encoded data removed]",
      "text/plain": [
       "<Figure size 640x480 with 1 Axes>"
      ]
     },
     "metadata": {},
     "output_type": "display_data"
    }
   ],
   "source": [
    "sns.barplot(penguins, \n",
    "            x = 'species', \n",
    "            y = 'body_mass_g', \n",
    "            hue='species',\n",
    "            palette = 'cool',\n",
    "           width = 0.8,\n",
    "           estimator = 'max',     # default - 'mean'\n",
    "            errorbar = None\n",
    "           )\n",
    "plt.grid(alpha = 0.2)\n",
    ";\n",
    "    # errorbar='ci': по умолчанию, barplot отображает 95%-й доверительный интервал;\n",
    "    # errorbar='sd': отображает стандартное отклонение значений;\n",
    "    # errorbar='se': отображает стандартную ошибку значений;\n",
    "    # errorbar=None: отключает отображение ошибок."
   ]
  },
  {
   "cell_type": "code",
   "execution_count": 20,
   "id": "1ec088a6-61fb-4d57-ba7f-fdf651db248f",
   "metadata": {},
   "outputs": [
    {
     "data": {
      "text/plain": [
       "''"
      ]
     },
     "execution_count": 20,
     "metadata": {},
     "output_type": "execute_result"
    },
    {
     "data": {
      "image/png": "[encoded data removed]",
      "text/plain": [
       "<Figure size 640x480 with 1 Axes>"
      ]
     },
     "metadata": {},
     "output_type": "display_data"
    }
   ],
   "source": [
    "sns.barplot(penguins, \n",
    "            y = 'species', \n",
    "            x = 'body_mass_g', \n",
    "            palette = 'cool',\n",
    "           width = 0.8,\n",
    "           estimator = 'max',     # default - 'mean'\n",
    "            errorbar = None,\n",
    "            hue='sex',\n",
    "            hue_order = ['Female', 'Male'],\n",
    "            order=['Gentoo', 'Chinstrap', 'Adelie']\n",
    "           )\n",
    "plt.grid(alpha = 0.2)\n",
    ";\n",
    "    # errorbar='ci': по умолчанию, barplot отображает 95%-й доверительный интервал;\n",
    "    # errorbar='sd': отображает стандартное отклонение значений;\n",
    "    # errorbar='se': отображает стандартную ошибку значений;\n",
    "    # errorbar=None: отключает отображение ошибок."
   ]
  },
  {
   "cell_type": "code",
   "execution_count": 25,
   "id": "29ec11e2-0874-4451-a49b-606fb3148403",
   "metadata": {},
   "outputs": [
    {
     "data": {
      "text/plain": [
       "''"
      ]
     },
     "execution_count": 25,
     "metadata": {},
     "output_type": "execute_result"
    },
    {
     "data": {
      "image/png": "[encoded data removed]",
      "text/plain": [
       "<Figure size 640x480 with 1 Axes>"
      ]
     },
     "metadata": {},
     "output_type": "display_data"
    }
   ],
   "source": [
    "sns.barplot(penguins, \n",
    "            x = 'species', \n",
    "            y = 'body_mass_g', \n",
    "            palette = 'cool',\n",
    "           width = 0.8,\n",
    "           estimator = 'max',     # default - 'mean'\n",
    "            errorbar = 'sd',\n",
    "            hue='sex',\n",
    "            order=['Gentoo', 'Chinstrap', 'Adelie'],\n",
    "            dodge = False,\n",
    "           )\n",
    "plt.grid(alpha = 0.2)\n",
    ";\n",
    "    # errorbar='ci': по умолчанию, barplot отображает 95%-й доверительный интервал;\n",
    "    # errorbar='sd': отображает стандартное отклонение значений;\n",
    "    # errorbar='se': отображает стандартную ошибку значений;\n",
    "    # errorbar=None: отключает отображение ошибок."
   ]
  },
  {
   "cell_type": "code",
   "execution_count": 12,
   "id": "4ad08c80-d1d6-440e-89b4-c0005c01a8dd",
   "metadata": {},
   "outputs": [
    {
     "data": {
      "text/html": [
       "<div>\n",
       "<style scoped>\n",
       "    .dataframe tbody tr th:only-of-type {\n",
       "        vertical-align: middle;\n",
       "    }\n",
       "\n",
       "    .dataframe tbody tr th {\n",
       "        vertical-align: top;\n",
       "    }\n",
       "\n",
       "    .dataframe thead th {\n",
       "        text-align: right;\n",
       "    }\n",
       "</style>\n",
       "<table border=\"1\" class=\"dataframe\">\n",
       "  <thead>\n",
       "    <tr style=\"text-align: right;\">\n",
       "      <th></th>\n",
       "      <th>count</th>\n",
       "      <th>mean</th>\n",
       "      <th>std</th>\n",
       "      <th>min</th>\n",
       "      <th>25%</th>\n",
       "      <th>50%</th>\n",
       "      <th>75%</th>\n",
       "      <th>max</th>\n",
       "    </tr>\n",
       "    <tr>\n",
       "      <th>species</th>\n",
       "      <th></th>\n",
       "      <th></th>\n",
       "      <th></th>\n",
       "      <th></th>\n",
       "      <th></th>\n",
       "      <th></th>\n",
       "      <th></th>\n",
       "      <th></th>\n",
       "    </tr>\n",
       "  </thead>\n",
       "  <tbody>\n",
       "    <tr>\n",
       "      <th>Adelie</th>\n",
       "      <td>146.0</td>\n",
       "      <td>3706.164384</td>\n",
       "      <td>458.620135</td>\n",
       "      <td>2850.0</td>\n",
       "      <td>3362.5</td>\n",
       "      <td>3700.0</td>\n",
       "      <td>4000.0</td>\n",
       "      <td>4775.0</td>\n",
       "    </tr>\n",
       "    <tr>\n",
       "      <th>Chinstrap</th>\n",
       "      <td>68.0</td>\n",
       "      <td>3733.088235</td>\n",
       "      <td>384.335081</td>\n",
       "      <td>2700.0</td>\n",
       "      <td>3487.5</td>\n",
       "      <td>3700.0</td>\n",
       "      <td>3950.0</td>\n",
       "      <td>4800.0</td>\n",
       "    </tr>\n",
       "    <tr>\n",
       "      <th>Gentoo</th>\n",
       "      <td>119.0</td>\n",
       "      <td>5092.436975</td>\n",
       "      <td>501.476154</td>\n",
       "      <td>3950.0</td>\n",
       "      <td>4700.0</td>\n",
       "      <td>5050.0</td>\n",
       "      <td>5500.0</td>\n",
       "      <td>6300.0</td>\n",
       "    </tr>\n",
       "  </tbody>\n",
       "</table>\n",
       "</div>"
      ],
      "text/plain": [
       "           count         mean         std     min     25%     50%     75%  \\\n",
       "species                                                                     \n",
       "Adelie     146.0  3706.164384  458.620135  2850.0  3362.5  3700.0  4000.0   \n",
       "Chinstrap   68.0  3733.088235  384.335081  2700.0  3487.5  3700.0  3950.0   \n",
       "Gentoo     119.0  5092.436975  501.476154  3950.0  4700.0  5050.0  5500.0   \n",
       "\n",
       "              max  \n",
       "species            \n",
       "Adelie     4775.0  \n",
       "Chinstrap  4800.0  \n",
       "Gentoo     6300.0  "
      ]
     },
     "execution_count": 12,
     "metadata": {},
     "output_type": "execute_result"
    }
   ],
   "source": [
    "penguins.groupby(by = 'species')['body_mass_g'].describe()"
   ]
  },
  {
   "cell_type": "code",
   "execution_count": 34,
   "id": "22a48247-8db0-4a18-aa1a-2c03bc10cebc",
   "metadata": {},
   "outputs": [
    {
     "data": {
      "text/plain": [
       "''"
      ]
     },
     "execution_count": 34,
     "metadata": {},
     "output_type": "execute_result"
    },
    {
     "data": {
      "image/png": "[encoded data removed]",
      "text/plain": [
       "<Figure size 640x480 with 1 Axes>"
      ]
     },
     "metadata": {},
     "output_type": "display_data"
    }
   ],
   "source": [
    "sns.set_style('white')\n",
    "sns.barplot(data=penguins, x='species', y='body_mass_g',\n",
    "            width=0.5,\n",
    "            color='lightgreen',\n",
    "            errorbar='se',\n",
    "            err_kws = {'color': '#fdd1a5', 'linewidth': 10},\n",
    "            edgecolor='grey',\n",
    "            linewidth=3,\n",
    "           fill = False)\n",
    "\n",
    ";"
   ]
  },
  {
   "cell_type": "code",
   "execution_count": null,
   "id": "8bf0f243-7f82-42bd-a02d-0755806fa796",
   "metadata": {},
   "outputs": [],
   "source": []
  }
 ],
 "metadata": {
  "kernelspec": {
   "display_name": "Python 3 (ipykernel)",
   "language": "python",
   "name": "python3"
  },
  "language_info": {
   "codemirror_mode": {
    "name": "ipython",
    "version": 3
   },
   "file_extension": ".py",
   "mimetype": "text/x-python",
   "name": "python",
   "nbconvert_exporter": "python",
   "pygments_lexer": "ipython3",
   "version": "3.12.3"
  }
 },
 "nbformat": 4,
 "nbformat_minor": 5
}
