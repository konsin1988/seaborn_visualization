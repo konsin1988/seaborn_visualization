{
 "cells": [
  {
   "cell_type": "code",
   "execution_count": 1,
   "id": "293a94d1-28c1-4b07-b3c9-446af603e97b",
   "metadata": {},
   "outputs": [],
   "source": [
    "import pandas as pd\n",
    "import matplotlib.pyplot as plt\n",
    "import seaborn as sns"
   ]
  },
  {
   "cell_type": "code",
   "execution_count": null,
   "id": "522f99f1-f6ee-426f-a4f6-db959b65af0f",
   "metadata": {},
   "outputs": [],
   "source": [
    "    # data: DataFrame, массив;\n",
    "    # x, y, hue: переменные для построения графика. X и Y задают координаты, а hue позволяет добавлять цветовое различие для дополнительной переменной;\n",
    "    # hue_order: порядок отображения категорий по параметру hue;\n",
    "    # dodge: разделение категорий по параметру hue;\n",
    "    # order: порядок отображения категорий;\n",
    "    # k_depth: глубина квантилей для отображения. Может быть 'tukey' (по умолчанию), 'proportion', 'trustworthy', 'full' или числом;\n",
    "    # outlier_prop: пропорция выбросов для квантилей; используется, когда k_depth='proportion' (по умолчанию outlier_prop=0.007);\n",
    "    # trust_alpha: доверительный уровень для отображения данных; используется, когда k_depth='trustworthy' (по умолчанию trust_alpha=0.05);\n",
    "    # width_method: используется для управления шириной коробок. Возможные значения: 'exponential' (по умолчанию), 'linear', 'area';\n",
    "    # orient: ориентация графика, может быть вертикальной 'v' или горизонтальной 'h';\n",
    "    # saturation: интенсивность цвета;\n",
    "    # width: ширина ящиков;\n",
    "    # linewidth: толщина линий ящика;\n",
    "    # showfliers: отображение выбросов."
   ]
  },
  {
   "cell_type": "code",
   "execution_count": 2,
   "id": "32e35174-5ac3-4832-ad5a-85dacb8985d9",
   "metadata": {},
   "outputs": [
    {
     "data": {
      "text/html": [
       "<div>\n",
       "<style scoped>\n",
       "    .dataframe tbody tr th:only-of-type {\n",
       "        vertical-align: middle;\n",
       "    }\n",
       "\n",
       "    .dataframe tbody tr th {\n",
       "        vertical-align: top;\n",
       "    }\n",
       "\n",
       "    .dataframe thead th {\n",
       "        text-align: right;\n",
       "    }\n",
       "</style>\n",
       "<table border=\"1\" class=\"dataframe\">\n",
       "  <thead>\n",
       "    <tr style=\"text-align: right;\">\n",
       "      <th></th>\n",
       "      <th>carat</th>\n",
       "      <th>cut</th>\n",
       "      <th>color</th>\n",
       "      <th>clarity</th>\n",
       "      <th>depth</th>\n",
       "      <th>table</th>\n",
       "      <th>price</th>\n",
       "      <th>x</th>\n",
       "      <th>y</th>\n",
       "      <th>z</th>\n",
       "    </tr>\n",
       "  </thead>\n",
       "  <tbody>\n",
       "    <tr>\n",
       "      <th>0</th>\n",
       "      <td>0.23</td>\n",
       "      <td>Ideal</td>\n",
       "      <td>E</td>\n",
       "      <td>SI2</td>\n",
       "      <td>61.5</td>\n",
       "      <td>55.0</td>\n",
       "      <td>326</td>\n",
       "      <td>3.95</td>\n",
       "      <td>3.98</td>\n",
       "      <td>2.43</td>\n",
       "    </tr>\n",
       "    <tr>\n",
       "      <th>1</th>\n",
       "      <td>0.21</td>\n",
       "      <td>Premium</td>\n",
       "      <td>E</td>\n",
       "      <td>SI1</td>\n",
       "      <td>59.8</td>\n",
       "      <td>61.0</td>\n",
       "      <td>326</td>\n",
       "      <td>3.89</td>\n",
       "      <td>3.84</td>\n",
       "      <td>2.31</td>\n",
       "    </tr>\n",
       "    <tr>\n",
       "      <th>2</th>\n",
       "      <td>0.23</td>\n",
       "      <td>Good</td>\n",
       "      <td>E</td>\n",
       "      <td>VS1</td>\n",
       "      <td>56.9</td>\n",
       "      <td>65.0</td>\n",
       "      <td>327</td>\n",
       "      <td>4.05</td>\n",
       "      <td>4.07</td>\n",
       "      <td>2.31</td>\n",
       "    </tr>\n",
       "    <tr>\n",
       "      <th>3</th>\n",
       "      <td>0.29</td>\n",
       "      <td>Premium</td>\n",
       "      <td>I</td>\n",
       "      <td>VS2</td>\n",
       "      <td>62.4</td>\n",
       "      <td>58.0</td>\n",
       "      <td>334</td>\n",
       "      <td>4.20</td>\n",
       "      <td>4.23</td>\n",
       "      <td>2.63</td>\n",
       "    </tr>\n",
       "    <tr>\n",
       "      <th>4</th>\n",
       "      <td>0.31</td>\n",
       "      <td>Good</td>\n",
       "      <td>J</td>\n",
       "      <td>SI2</td>\n",
       "      <td>63.3</td>\n",
       "      <td>58.0</td>\n",
       "      <td>335</td>\n",
       "      <td>4.34</td>\n",
       "      <td>4.35</td>\n",
       "      <td>2.75</td>\n",
       "    </tr>\n",
       "  </tbody>\n",
       "</table>\n",
       "</div>"
      ],
      "text/plain": [
       "   carat      cut color clarity  depth  table  price     x     y     z\n",
       "0   0.23    Ideal     E     SI2   61.5   55.0    326  3.95  3.98  2.43\n",
       "1   0.21  Premium     E     SI1   59.8   61.0    326  3.89  3.84  2.31\n",
       "2   0.23     Good     E     VS1   56.9   65.0    327  4.05  4.07  2.31\n",
       "3   0.29  Premium     I     VS2   62.4   58.0    334  4.20  4.23  2.63\n",
       "4   0.31     Good     J     SI2   63.3   58.0    335  4.34  4.35  2.75"
      ]
     },
     "execution_count": 2,
     "metadata": {},
     "output_type": "execute_result"
    }
   ],
   "source": [
    "diamonds = sns.load_dataset('diamonds')\n",
    "\n",
    "diamonds.head()"
   ]
  },
  {
   "cell_type": "code",
   "execution_count": 3,
   "id": "373becb8-a068-4464-b9a4-fdff4a034162",
   "metadata": {},
   "outputs": [
    {
     "name": "stdout",
     "output_type": "stream",
     "text": [
      "<class 'pandas.core.frame.DataFrame'>\n",
      "RangeIndex: 53940 entries, 0 to 53939\n",
      "Data columns (total 10 columns):\n",
      " #   Column   Non-Null Count  Dtype   \n",
      "---  ------   --------------  -----   \n",
      " 0   carat    53940 non-null  float64 \n",
      " 1   cut      53940 non-null  category\n",
      " 2   color    53940 non-null  category\n",
      " 3   clarity  53940 non-null  category\n",
      " 4   depth    53940 non-null  float64 \n",
      " 5   table    53940 non-null  float64 \n",
      " 6   price    53940 non-null  int64   \n",
      " 7   x        53940 non-null  float64 \n",
      " 8   y        53940 non-null  float64 \n",
      " 9   z        53940 non-null  float64 \n",
      "dtypes: category(3), float64(6), int64(1)\n",
      "memory usage: 3.0 MB\n"
     ]
    }
   ],
   "source": [
    "diamonds.info()"
   ]
  },
  {
   "cell_type": "code",
   "execution_count": null,
   "id": "adb8b70d-1356-4ad5-98b9-3552cc1cf86f",
   "metadata": {},
   "outputs": [],
   "source": [
    "    # carat (карат): Вес бриллианта в каратах. Карат - это единица измерения массы, которая равна 0.2 грамма;\n",
    "    # cut (качество огранки): Категория, описывающая качество огранки бриллианта. Возможные значения: Fair (удовлетворительное качество), Good (хорошее качество), Very Good (очень хорошее качество), Premium (премиум качество), Ideal (идеальное качество);\n",
    "    # color (цвет): Отражает цвет бриллианта. Международная система GIA описывает наивысший цвет латинской буквой D, и далее по нисходящей идут цвета E, F, G, H, I, J и т.д. Маркировка цвета D означает \"бесцветный\" и является наиболее ценным;\n",
    "    # clarity (чистота): Оценка чистоты бриллианта, то есть наличия или отсутствия дефектов. Значения варьируются от I1 (с наибольшими дефектами) до IF (без включений);\n",
    "    # depth (глубина): Процентное соотношение максимальной глубины бриллианта к его среднему диаметру;\n",
    "    # table (таблица): Процентное соотношение ширины верхней грани бриллианта к его общей ширине;\n",
    "    # price (цена): Цена бриллианта в долларах США;\n",
    "    # x (длина): Длина бриллианта в миллиметрах;\n",
    "    # y (ширина): Ширина бриллианта в миллиметрах;\n",
    "    # z (глубина): Глубина бриллианта в миллиметрах."
   ]
  },
  {
   "cell_type": "code",
   "execution_count": 4,
   "id": "2f90dea9-b300-4b61-9e9c-543d810358a8",
   "metadata": {},
   "outputs": [],
   "source": [
    "sns.set_style('whitegrid')"
   ]
  },
  {
   "cell_type": "code",
   "execution_count": 5,
   "id": "2b8069af-736e-432a-8584-c892baca6b36",
   "metadata": {},
   "outputs": [],
   "source": [
    "plt.rcParams['figure.figsize'] = [7, 5]\n",
    "plt.rcParams['figure.dpi'] = 120"
   ]
  },
  {
   "cell_type": "code",
   "execution_count": 6,
   "id": "0bc93a47-d259-4623-8226-86154c80c077",
   "metadata": {},
   "outputs": [
    {
     "data": {
      "image/png": "[encoded data removed]",
      "text/plain": [
       "<Figure size 840x600 with 1 Axes>"
      ]
     },
     "metadata": {},
     "output_type": "display_data"
    }
   ],
   "source": [
    "sns.boxenplot(data = diamonds,\n",
    "              x = 'price',\n",
    "              color = 'LightSeaGreen'\n",
    "             );"
   ]
  },
  {
   "cell_type": "code",
   "execution_count": null,
   "id": "89157ad9-484a-4a7d-9f7f-85f883f35c33",
   "metadata": {},
   "outputs": [],
   "source": []
  }
 ],
 "metadata": {
  "kernelspec": {
   "display_name": "Python 3 (ipykernel)",
   "language": "python",
   "name": "python3"
  },
  "language_info": {
   "codemirror_mode": {
    "name": "ipython",
    "version": 3
   },
   "file_extension": ".py",
   "mimetype": "text/x-python",
   "name": "python",
   "nbconvert_exporter": "python",
   "pygments_lexer": "ipython3",
   "version": "3.12.3"
  }
 },
 "nbformat": 4,
 "nbformat_minor": 5
}
